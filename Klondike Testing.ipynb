{
 "cells": [
  {
   "cell_type": "markdown",
   "metadata": {},
   "source": [
    "## Monte Carlo Prototype\n",
    "\n",
    "```Julia\n",
    "u = 0\n",
    "@time begin\n",
    "    for i = 1:100_000\n",
    "        kb = KlondikeBoard()\n",
    "        isPlayable(kb, 3) ? continue : u += 1; #\"println(kb); println(kb.stock[3:3:24])\n",
    "    end\n",
    "    (u, u / 100_000)\n",
    "end\n",
    "```"
   ]
  },
  {
   "cell_type": "code",
   "execution_count": 1,
   "metadata": {},
   "outputs": [],
   "source": [
    "using Distributed"
   ]
  },
  {
   "cell_type": "code",
   "execution_count": 2,
   "metadata": {},
   "outputs": [
    {
     "data": {
      "text/plain": [
       "5-element Array{Int64,1}:\n",
       " 1\n",
       " 2\n",
       " 3\n",
       " 4\n",
       " 5"
      ]
     },
     "execution_count": 2,
     "metadata": {},
     "output_type": "execute_result"
    }
   ],
   "source": [
    "addprocs()\n",
    "procs()"
   ]
  },
  {
   "cell_type": "code",
   "execution_count": 3,
   "metadata": {},
   "outputs": [],
   "source": [
    "@everywhere include(\"cc_ac_KlondikeModule.jl\")\n",
    "@everywhere using .ccacKlondike"
   ]
  },
  {
   "cell_type": "code",
   "execution_count": 4,
   "metadata": {},
   "outputs": [],
   "source": [
    "@everywhere function parallelKlondikeCarlo(trials::Integer = 100_000, drawMode::Integer = 3)\n",
    "    function check()\n",
    "        !isPlayable(KlondikeBoard(), drawMode)\n",
    "    end\n",
    "    \n",
    "    local unplayables = @distributed (+) for i = 1:trials\n",
    "        Int(check())\n",
    "    end\n",
    "    (unplayables, unplayables / trials)\n",
    "end"
   ]
  },
  {
   "cell_type": "code",
   "execution_count": 6,
   "metadata": {},
   "outputs": [
    {
     "data": {
      "text/plain": []
     },
     "execution_count": 6,
     "metadata": {},
     "output_type": "execute_result"
    },
    {
     "name": "stdout",
     "output_type": "stream",
     "text": [
      "Stock:\t\t\tClubs:\tSpades:\tHearts:\tDiamonds:\n",
      "\u001b[31m10♢\u001b[39m\t\t\t\t\t\t\t\n",
      "Tab. 1:\tTab. 2:\tTab. 3:\tTab. 4:\tTab. 5:\tTab. 6:\tTab. 7:\t\n",
      "\u001b[31mAce♡\u001b[39m\t\u001b[34m[#??#]\t\u001b[39m\u001b[34m[#??#]\t\u001b[39m\u001b[34m[#??#]\t\u001b[39m\u001b[34m[#??#]\t\u001b[39m\u001b[34m[#??#]\t\u001b[39m\u001b[34m[#??#]\t\u001b[39m\n",
      "\t\u001b[0m4♣\t\u001b[34m[#??#]\t\u001b[39m\u001b[34m[#??#]\t\u001b[39m\u001b[34m[#??#]\t\u001b[39m\u001b[34m[#??#]\t\u001b[39m\u001b[34m[#??#]\t\u001b[39m\n",
      "\t\t\u001b[0m8♣\t\u001b[34m[#??#]\t\u001b[39m\u001b[34m[#??#]\t\u001b[39m\u001b[34m[#??#]\t\u001b[39m\u001b[34m[#??#]\t\u001b[39m\n",
      "\t\t\t\u001b[0m10♣\t\u001b[34m[#??#]\t\u001b[39m\u001b[34m[#??#]\t\u001b[39m\u001b[34m[#??#]\t\u001b[39m\n",
      "\t\t\t\t\u001b[0m3♠\t\u001b[34m[#??#]\t\u001b[39m\u001b[34m[#??#]\t\u001b[39m\n",
      "\t\t\t\t\t\u001b[0mAce♣\t\u001b[34m[#??#]\t\u001b[39m\n",
      "\t\t\t\t\t\t\u001b[0m5♠\t\n"
     ]
    }
   ],
   "source": [
    "KlondikeBoard()"
   ]
  },
  {
   "cell_type": "code",
   "execution_count": 7,
   "metadata": {},
   "outputs": [
    {
     "name": "stdout",
     "output_type": "stream",
     "text": [
      "  6.252678 seconds (2.03 M allocations: 102.614 MiB, 1.53% gc time)\n"
     ]
    },
    {
     "data": {
      "text/plain": [
       "(2455, 0.002455)"
      ]
     },
     "execution_count": 7,
     "metadata": {},
     "output_type": "execute_result"
    }
   ],
   "source": [
    "@time parallelKlondikeCarlo(1_000_000)"
   ]
  },
  {
   "cell_type": "code",
   "execution_count": 8,
   "metadata": {},
   "outputs": [
    {
     "name": "stdout",
     "output_type": "stream",
     "text": [
      " 12.300210 seconds (68.02 M allocations: 3.756 GiB, 11.27% gc time)\n"
     ]
    },
    {
     "data": {
      "text/plain": [
       "(2467, 0.002467)"
      ]
     },
     "execution_count": 8,
     "metadata": {},
     "output_type": "execute_result"
    }
   ],
   "source": [
    "@time klondikeCarlo(1_000_000)"
   ]
  },
  {
   "cell_type": "code",
   "execution_count": 9,
   "metadata": {},
   "outputs": [
    {
     "name": "stdout",
     "output_type": "stream",
     "text": [
      "  3.187287 seconds (535 allocations: 39.094 KiB)\n"
     ]
    },
    {
     "data": {
      "text/plain": [
       "(0, 0.0)"
      ]
     },
     "execution_count": 9,
     "metadata": {},
     "output_type": "execute_result"
    }
   ],
   "source": [
    "@time parallelKlondikeCarlo(1_000_000, 1)"
   ]
  },
  {
   "cell_type": "code",
   "execution_count": 10,
   "metadata": {},
   "outputs": [
    {
     "name": "stdout",
     "output_type": "stream",
     "text": [
      " 12.331854 seconds (68.00 M allocations: 3.755 GiB, 11.46% gc time)\n"
     ]
    },
    {
     "data": {
      "text/plain": [
       "(0, 0.0)"
      ]
     },
     "execution_count": 10,
     "metadata": {},
     "output_type": "execute_result"
    }
   ],
   "source": [
    "@time klondikeCarlo(1_000_000, 1)"
   ]
  },
  {
   "cell_type": "code",
   "execution_count": 11,
   "metadata": {},
   "outputs": [
    {
     "name": "stdout",
     "output_type": "stream",
     "text": [
      " 30.912358 seconds (1.12 k allocations: 56.391 KiB)\n"
     ]
    },
    {
     "data": {
      "text/plain": [
       "(2, 2.0e-7)"
      ]
     },
     "execution_count": 11,
     "metadata": {},
     "output_type": "execute_result"
    }
   ],
   "source": [
    "@time parallelKlondikeCarlo(10_000_000, 1)"
   ]
  },
  {
   "cell_type": "code",
   "execution_count": 12,
   "metadata": {},
   "outputs": [
    {
     "name": "stdout",
     "output_type": "stream",
     "text": [
      "303.911693 seconds (6.79 k allocations: 230.422 KiB)\n"
     ]
    },
    {
     "data": {
      "text/plain": [
       "(15, 1.5e-7)"
      ]
     },
     "execution_count": 12,
     "metadata": {},
     "output_type": "execute_result"
    }
   ],
   "source": [
    "@time parallelKlondikeCarlo(100_000_000, 1)"
   ]
  },
  {
   "cell_type": "code",
   "execution_count": 13,
   "metadata": {},
   "outputs": [
    {
     "name": "stdout",
     "output_type": "stream",
     "text": [
      "3053.258486 seconds (63.99 k allocations: 1.936 MiB)\n"
     ]
    },
    {
     "data": {
      "text/plain": [
       "(152, 1.52e-7)"
      ]
     },
     "execution_count": 13,
     "metadata": {},
     "output_type": "execute_result"
    }
   ],
   "source": [
    "@time parallelKlondikeCarlo(1_000_000_000, 1)"
   ]
  },
  {
   "cell_type": "code",
   "execution_count": 14,
   "metadata": {},
   "outputs": [
    {
     "name": "stdout",
     "output_type": "stream",
     "text": [
      "30553.476195 seconds (636.09 k allocations: 19.046 MiB, 0.00% gc time)\n"
     ]
    },
    {
     "data": {
      "text/plain": [
       "(1680, 1.68e-7)"
      ]
     },
     "execution_count": 14,
     "metadata": {},
     "output_type": "execute_result"
    }
   ],
   "source": [
    "@time parallelKlondikeCarlo(10_000_000_000, 1)"
   ]
  },
  {
   "cell_type": "code",
   "execution_count": 15,
   "metadata": {},
   "outputs": [
    {
     "name": "stdout",
     "output_type": "stream",
     "text": [
      "  0.330273 seconds (9.36 k allocations: 555.163 KiB)\n"
     ]
    },
    {
     "data": {
      "text/plain": [
       "(297, 0.00297)"
      ]
     },
     "execution_count": 15,
     "metadata": {},
     "output_type": "execute_result"
    }
   ],
   "source": [
    "@time parallelKlondikeCarlo()"
   ]
  },
  {
   "cell_type": "markdown",
   "metadata": {},
   "source": [
    "## Stuff below after commits on the 5th of December"
   ]
  },
  {
   "cell_type": "code",
   "execution_count": 19,
   "metadata": {},
   "outputs": [
    {
     "name": "stdout",
     "output_type": "stream",
     "text": [
      "  1.252030 seconds (6.80 M allocations: 384.522 MiB, 13.07% gc time)\n"
     ]
    },
    {
     "data": {
      "text/plain": [
       "(266, 0.00266)"
      ]
     },
     "execution_count": 19,
     "metadata": {},
     "output_type": "execute_result"
    }
   ],
   "source": [
    "@time klondikeCarlo()"
   ]
  },
  {
   "cell_type": "code",
   "execution_count": 20,
   "metadata": {},
   "outputs": [
    {
     "name": "stdout",
     "output_type": "stream",
     "text": [
      "123.346080 seconds (680.00 M allocations: 37.551 GiB, 13.10% gc time)\n"
     ]
    },
    {
     "data": {
      "text/plain": [
       "(25333, 0.0025333)"
      ]
     },
     "execution_count": 20,
     "metadata": {},
     "output_type": "execute_result"
    }
   ],
   "source": [
    "@time klondikeCarlo(10_000_000)"
   ]
  },
  {
   "cell_type": "code",
   "execution_count": null,
   "metadata": {},
   "outputs": [],
   "source": []
  }
 ],
 "metadata": {
  "@webio": {
   "lastCommId": "33e19b910dd24c9e868f1223969d8514",
   "lastKernelId": "9ffe531c-4f5c-4e9d-923a-2a660a13d82e"
  },
  "kernelspec": {
   "display_name": "Julia 1.0.2",
   "language": "julia",
   "name": "julia-1.0"
  },
  "language_info": {
   "file_extension": ".jl",
   "mimetype": "application/julia",
   "name": "julia",
   "version": "1.0.2"
  }
 },
 "nbformat": 4,
 "nbformat_minor": 2
}
