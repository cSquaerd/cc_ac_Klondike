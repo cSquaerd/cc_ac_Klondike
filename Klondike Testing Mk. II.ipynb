{
 "cells": [
  {
   "cell_type": "code",
   "execution_count": 1,
   "metadata": {},
   "outputs": [],
   "source": [
    "using Distributed"
   ]
  },
  {
   "cell_type": "code",
   "execution_count": 2,
   "metadata": {},
   "outputs": [
    {
     "data": {
      "text/plain": [
       "5-element Array{Int64,1}:\n",
       " 1\n",
       " 2\n",
       " 3\n",
       " 4\n",
       " 5"
      ]
     },
     "execution_count": 2,
     "metadata": {},
     "output_type": "execute_result"
    }
   ],
   "source": [
    "addprocs()\n",
    "procs()"
   ]
  },
  {
   "cell_type": "code",
   "execution_count": 3,
   "metadata": {},
   "outputs": [],
   "source": [
    "@everywhere include(\"cc_ac_KlondikeModule.jl\")\n",
    "@everywhere using .ccacKlondike"
   ]
  },
  {
   "cell_type": "code",
   "execution_count": 4,
   "metadata": {},
   "outputs": [],
   "source": [
    "@everywhere function parallelKlondikeCarlo(trials::Integer = 100_000, drawMode::Integer = 3)\n",
    "    function check()\n",
    "        !isPlayable(KlondikeBoard(), drawMode)\n",
    "    end\n",
    "    \n",
    "    local unplayables = @distributed (+) for i = 1:trials\n",
    "        Int(check())\n",
    "    end\n",
    "    (unplayables, unplayables / trials)\n",
    "end"
   ]
  },
  {
   "cell_type": "code",
   "execution_count": 6,
   "metadata": {},
   "outputs": [
    {
     "data": {
      "text/plain": []
     },
     "execution_count": 6,
     "metadata": {},
     "output_type": "execute_result"
    },
    {
     "name": "stdout",
     "output_type": "stream",
     "text": [
      "Stock:\t\t\tClubs:\tSpades:\tHearts:\tDiamonds:\n",
      "\u001b[31m9♡\u001b[39m\t\t\t\t\t\t\t\n",
      "Tab. 1:\tTab. 2:\tTab. 3:\tTab. 4:\tTab. 5:\tTab. 6:\tTab. 7:\t\n",
      "\u001b[31m5♢\u001b[39m\t\u001b[34m[#??#]\t\u001b[39m\u001b[34m[#??#]\t\u001b[39m\u001b[34m[#??#]\t\u001b[39m\u001b[34m[#??#]\t\u001b[39m\u001b[34m[#??#]\t\u001b[39m\u001b[34m[#??#]\t\u001b[39m\n",
      "\t\u001b[31m5♡\u001b[39m\t\u001b[34m[#??#]\t\u001b[39m\u001b[34m[#??#]\t\u001b[39m\u001b[34m[#??#]\t\u001b[39m\u001b[34m[#??#]\t\u001b[39m\u001b[34m[#??#]\t\u001b[39m\n",
      "\t\t\u001b[0m2♣\t\u001b[34m[#??#]\t\u001b[39m\u001b[34m[#??#]\t\u001b[39m\u001b[34m[#??#]\t\u001b[39m\u001b[34m[#??#]\t\u001b[39m\n",
      "\t\t\t\u001b[31mJack♢\u001b[39m\t\u001b[34m[#??#]\t\u001b[39m\u001b[34m[#??#]\t\u001b[39m\u001b[34m[#??#]\t\u001b[39m\n",
      "\t\t\t\t\u001b[31mJack♡\u001b[39m\t\u001b[34m[#??#]\t\u001b[39m\u001b[34m[#??#]\t\u001b[39m\n",
      "\t\t\t\t\t\u001b[31m4♢\u001b[39m\t\u001b[34m[#??#]\t\u001b[39m\n",
      "\t\t\t\t\t\t\u001b[31m2♢\u001b[39m\t\n"
     ]
    }
   ],
   "source": [
    "KlondikeBoard()"
   ]
  },
  {
   "cell_type": "code",
   "execution_count": 7,
   "metadata": {},
   "outputs": [
    {
     "name": "stdout",
     "output_type": "stream",
     "text": [
      "  6.221115 seconds (2.03 M allocations: 102.476 MiB, 1.36% gc time)\n"
     ]
    },
    {
     "data": {
      "text/plain": [
       "(2506, 0.002506)"
      ]
     },
     "execution_count": 7,
     "metadata": {},
     "output_type": "execute_result"
    }
   ],
   "source": [
    "@time parallelKlondikeCarlo(1_000_000)"
   ]
  },
  {
   "cell_type": "code",
   "execution_count": 8,
   "metadata": {},
   "outputs": [
    {
     "name": "stdout",
     "output_type": "stream",
     "text": [
      " 12.684567 seconds (68.05 M allocations: 3.757 GiB, 9.75% gc time)\n"
     ]
    },
    {
     "data": {
      "text/plain": [
       "(2577, 0.2577)"
      ]
     },
     "execution_count": 8,
     "metadata": {},
     "output_type": "execute_result"
    }
   ],
   "source": [
    "@time klondikeCarlo()"
   ]
  },
  {
   "cell_type": "code",
   "execution_count": 9,
   "metadata": {},
   "outputs": [
    {
     "name": "stdout",
     "output_type": "stream",
     "text": [
      "  3.067904 seconds (536 allocations: 38.797 KiB)\n"
     ]
    },
    {
     "data": {
      "text/plain": [
       "(0, 0.0)"
      ]
     },
     "execution_count": 9,
     "metadata": {},
     "output_type": "execute_result"
    }
   ],
   "source": [
    "@time parallelKlondikeCarlo(1_000_000, 1)"
   ]
  },
  {
   "cell_type": "code",
   "execution_count": 10,
   "metadata": {},
   "outputs": [
    {
     "name": "stdout",
     "output_type": "stream",
     "text": [
      " 12.869567 seconds (68.00 M allocations: 3.755 GiB, 9.57% gc time)\n"
     ]
    },
    {
     "data": {
      "text/plain": [
       "(0, 0.0)"
      ]
     },
     "execution_count": 10,
     "metadata": {},
     "output_type": "execute_result"
    }
   ],
   "source": [
    "@time klondikeCarlo(1_000_000, 1)"
   ]
  },
  {
   "cell_type": "code",
   "execution_count": 11,
   "metadata": {},
   "outputs": [
    {
     "name": "stdout",
     "output_type": "stream",
     "text": [
      " 30.359114 seconds (1.10 k allocations: 55.953 KiB)\n"
     ]
    },
    {
     "data": {
      "text/plain": [
       "(1, 1.0e-7)"
      ]
     },
     "execution_count": 11,
     "metadata": {},
     "output_type": "execute_result"
    }
   ],
   "source": [
    "@time parallelKlondikeCarlo(10_000_000, 1)"
   ]
  },
  {
   "cell_type": "code",
   "execution_count": 12,
   "metadata": {},
   "outputs": [
    {
     "name": "stdout",
     "output_type": "stream",
     "text": [
      "303.628989 seconds (6.78 k allocations: 229.813 KiB)\n"
     ]
    },
    {
     "data": {
      "text/plain": [
       "(16, 1.6e-7)"
      ]
     },
     "execution_count": 12,
     "metadata": {},
     "output_type": "execute_result"
    }
   ],
   "source": [
    "@time parallelKlondikeCarlo(100_000_000, 1)"
   ]
  },
  {
   "cell_type": "code",
   "execution_count": 13,
   "metadata": {},
   "outputs": [
    {
     "name": "stdout",
     "output_type": "stream",
     "text": [
      "125.860712 seconds (680.00 M allocations: 37.551 GiB, 9.75% gc time)\n"
     ]
    },
    {
     "data": {
      "text/plain": [
       "(3, 2.9999999999999997e-5)"
      ]
     },
     "execution_count": 13,
     "metadata": {},
     "output_type": "execute_result"
    }
   ],
   "source": [
    "@time klondikeCarlo(10_000_000, 1)"
   ]
  },
  {
   "cell_type": "code",
   "execution_count": 14,
   "metadata": {},
   "outputs": [
    {
     "name": "stdout",
     "output_type": "stream",
     "text": [
      "300.754263 seconds (6.75 k allocations: 228.734 KiB)\n"
     ]
    },
    {
     "data": {
      "text/plain": [
       "(249777, 0.00249777)"
      ]
     },
     "execution_count": 14,
     "metadata": {},
     "output_type": "execute_result"
    }
   ],
   "source": [
    "@time parallelKlondikeCarlo(100_000_000)"
   ]
  },
  {
   "cell_type": "code",
   "execution_count": 15,
   "metadata": {},
   "outputs": [
    {
     "name": "stdout",
     "output_type": "stream",
     "text": [
      "1252.449729 seconds (6.80 G allocations: 375.509 GiB, 9.74% gc time)\n"
     ]
    },
    {
     "data": {
      "text/plain": [
       "(250242, 0.250242)"
      ]
     },
     "execution_count": 15,
     "metadata": {},
     "output_type": "execute_result"
    }
   ],
   "source": [
    "@time klondikeCarlo(100_000_000)"
   ]
  },
  {
   "cell_type": "code",
   "execution_count": null,
   "metadata": {},
   "outputs": [],
   "source": []
  }
 ],
 "metadata": {
  "@webio": {
   "lastCommId": "65a1a033473248bc871a3237b123bbd1",
   "lastKernelId": "f7dd4d17-9af6-45c7-b5e0-5c15f1158f36"
  },
  "kernelspec": {
   "display_name": "Julia 1.0.2",
   "language": "julia",
   "name": "julia-1.0"
  },
  "language_info": {
   "file_extension": ".jl",
   "mimetype": "application/julia",
   "name": "julia",
   "version": "1.0.2"
  }
 },
 "nbformat": 4,
 "nbformat_minor": 2
}
